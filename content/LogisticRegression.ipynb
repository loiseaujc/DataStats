{
 "cells": [
  {
   "cell_type": "code",
   "execution_count": 1,
   "id": "22ee9432-455b-49ea-92a3-cfd2e49b6306",
   "metadata": {},
   "outputs": [],
   "source": [
    "import numpy as np"
   ]
  },
  {
   "cell_type": "markdown",
   "id": "ec01f081-1afd-47c3-89e8-65948ed7389f",
   "metadata": {},
   "source": [
    "$$\n",
    "\\mathcal{J}(\\mathbf{x}) = \\mathbf{Ax}\n",
    "$$"
   ]
  },
  {
   "cell_type": "code",
   "execution_count": null,
   "id": "eea90808-b4c6-4918-bdf2-4eee30eb8789",
   "metadata": {},
   "outputs": [],
   "source": []
  }
 ],
 "metadata": {
  "kernelspec": {
   "display_name": "Python 3 (ipykernel)",
   "language": "python",
   "name": "python3"
  },
  "language_info": {
   "codemirror_mode": {
    "name": "ipython",
    "version": 3
   },
   "file_extension": ".py",
   "mimetype": "text/x-python",
   "name": "python",
   "nbconvert_exporter": "python",
   "pygments_lexer": "ipython3",
   "version": "3.9.13"
  }
 },
 "nbformat": 4,
 "nbformat_minor": 5
}
